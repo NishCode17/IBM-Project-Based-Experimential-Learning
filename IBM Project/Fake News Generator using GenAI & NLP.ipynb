{
 "cells": [
  {
   "cell_type": "code",
   "execution_count": 1,
   "metadata": {
    "colab": {
     "base_uri": "https://localhost:8080/"
    },
    "id": "XslpQb3MAxdu",
    "outputId": "d1e3162f-275a-40ec-b1f1-583937a919ca"
   },
   "outputs": [
    {
     "name": "stdout",
     "output_type": "stream",
     "text": [
      "\u001b[2K   \u001b[90m━━━━━━━━━━━━━━━━━━━━━━━━━━━━━━━━━━━━━━━━\u001b[0m \u001b[32m363.4/363.4 MB\u001b[0m \u001b[31m4.3 MB/s\u001b[0m eta \u001b[36m0:00:00\u001b[0m\n",
      "\u001b[2K   \u001b[90m━━━━━━━━━━━━━━━━━━━━━━━━━━━━━━━━━━━━━━━━\u001b[0m \u001b[32m13.8/13.8 MB\u001b[0m \u001b[31m42.9 MB/s\u001b[0m eta \u001b[36m0:00:00\u001b[0m\n",
      "\u001b[2K   \u001b[90m━━━━━━━━━━━━━━━━━━━━━━━━━━━━━━━━━━━━━━━━\u001b[0m \u001b[32m24.6/24.6 MB\u001b[0m \u001b[31m23.2 MB/s\u001b[0m eta \u001b[36m0:00:00\u001b[0m\n",
      "\u001b[2K   \u001b[90m━━━━━━━━━━━━━━━━━━━━━━━━━━━━━━━━━━━━━━━━\u001b[0m \u001b[32m883.7/883.7 kB\u001b[0m \u001b[31m27.0 MB/s\u001b[0m eta \u001b[36m0:00:00\u001b[0m\n",
      "\u001b[2K   \u001b[90m━━━━━━━━━━━━━━━━━━━━━━━━━━━━━━━━━━━━━━━━\u001b[0m \u001b[32m664.8/664.8 MB\u001b[0m \u001b[31m3.0 MB/s\u001b[0m eta \u001b[36m0:00:00\u001b[0m\n",
      "\u001b[2K   \u001b[90m━━━━━━━━━━━━━━━━━━━━━━━━━━━━━━━━━━━━━━━━\u001b[0m \u001b[32m211.5/211.5 MB\u001b[0m \u001b[31m6.7 MB/s\u001b[0m eta \u001b[36m0:00:00\u001b[0m\n",
      "\u001b[2K   \u001b[90m━━━━━━━━━━━━━━━━━━━━━━━━━━━━━━━━━━━━━━━━\u001b[0m \u001b[32m56.3/56.3 MB\u001b[0m \u001b[31m16.7 MB/s\u001b[0m eta \u001b[36m0:00:00\u001b[0m\n",
      "\u001b[2K   \u001b[90m━━━━━━━━━━━━━━━━━━━━━━━━━━━━━━━━━━━━━━━━\u001b[0m \u001b[32m127.9/127.9 MB\u001b[0m \u001b[31m9.4 MB/s\u001b[0m eta \u001b[36m0:00:00\u001b[0m\n",
      "\u001b[2K   \u001b[90m━━━━━━━━━━━━━━━━━━━━━━━━━━━━━━━━━━━━━━━━\u001b[0m \u001b[32m207.5/207.5 MB\u001b[0m \u001b[31m6.6 MB/s\u001b[0m eta \u001b[36m0:00:00\u001b[0m\n",
      "\u001b[2K   \u001b[90m━━━━━━━━━━━━━━━━━━━━━━━━━━━━━━━━━━━━━━━━\u001b[0m \u001b[32m21.1/21.1 MB\u001b[0m \u001b[31m27.1 MB/s\u001b[0m eta \u001b[36m0:00:00\u001b[0m\n",
      "\u001b[?25h"
     ]
    }
   ],
   "source": [
    "!pip install transformers datasets torch --quiet"
   ]
  },
  {
   "cell_type": "code",
   "execution_count": 2,
   "metadata": {
    "id": "wtlRy7hwDSRu"
   },
   "outputs": [],
   "source": [
    "from transformers import GPT2LMHeadModel, GPT2Tokenizer\n",
    "from transformers import BertTokenizer, BertForSequenceClassification\n",
    "import torch"
   ]
  },
  {
   "cell_type": "code",
   "execution_count": 3,
   "metadata": {
    "colab": {
     "base_uri": "https://localhost:8080/",
     "height": 593,
     "referenced_widgets": [
      "d38e33b3b8484bb8af7de33fbcc29d43",
      "d6db398f293d4d73ae8c16f7ef5608ec",
      "834fdd13d3b7446da96b252b19f90911",
      "1e4a18bb59a24ae7888f0ae6afddc318",
      "a411955a3cde4b9580c18748abf6609a",
      "a3e37f1f69d648ce82a5fcb6bd75de33",
      "7743c5a916bd414ca001c95791b5648f",
      "71fd2a065f8043a8ae5a1ae78a78c102",
      "0ca59c8b6dc74b2aa6852d68f6d2f2f1",
      "bb762cca2e634f5ab68e6014761c1e44",
      "f148ec2f148f420fa47bb6454abe51a5",
      "1d9ea510e9474a758dc83f2ab92bac49",
      "487443e6bf7f4d5d9bb2a29e7293f397",
      "57e3cdde294a44b1b45d251daa8eb17d",
      "b16c218f010a415da0217d86fab5fb86",
      "2d27b1d66cff4aea8b4288da3a940dbb",
      "f239a2ea23574a3b91f6616c6107d3f2",
      "5384ea86fb454204aab59896f63ef424",
      "454063c4750348c69eeb16bc3d357147",
      "3431560a4ca8405e802a85f654daaed4",
      "90c2bef785b54b189b8083e74539f37a",
      "723fd61c784a45c99c42ddf2f9424ebd",
      "c0f2d117d9f64f51afcd62bf57ccb065",
      "c26073073d9b41bcb2fe7e3e706e68d2",
      "e0cbdad2c3634305af7917098e449f36",
      "17fa0a95a3ae404c8b79bc444213cd1a",
      "a504bc06b78445dfb5d1884774f35565",
      "8b440a8d1dd345788c23a32583322634",
      "196ee5b4f41245a7bf5e218dc41fa47b",
      "598a6bce77fc42a3ab262225bf2afbb5",
      "efb6a472fcc34ea5a2e5f5f5a7fa2d0a",
      "867c99fa5fb94a9389c1523a0ee51a2f",
      "4a7f0e202d0041b2bc76f49f99c5c6ac",
      "941902fa4ab241e0a1c7d34f2d292e2d",
      "b74d0f27fc774afbadf54b7f08ecaf12",
      "e922dbe92a3e4ae0a8f0fae55dce9935",
      "d4fccbc3b2684a22b0bb222371c3477f",
      "f82e32f5cc3e490e8d76805b8372b3ca",
      "af39757be3ff4e02809633a9a5be88c3",
      "b055bca5ded64afb8b702ff3246ee819",
      "5abda09e546c4d94bf140da6e2674d98",
      "7d6ccc305ca347db8c276a5e8d8ffba3",
      "791d8c7eab9f4feca902f81bdc53f364",
      "57c83bd8feff4d528fd053064afa6f3d",
      "d79d8fdfb5164b83abeb2d6f5b1a5d2d",
      "5006b365c20f4dfcb4c6b2e2357f4994",
      "7d53a66bcfeb47ceafe3645c1eea0c93",
      "889ea0413c9d48c9ab73e1d32ea23bc0",
      "96e1cb59fa464b66b4063d75208b2026",
      "137ff9932448462b8358e7ea02c5f0b4",
      "4b7b09cca40d4c8ebca160ef65892051",
      "e7ea4f36f26f4c90bcb577b42210868c",
      "62d7077efde74d53bea2787ed97df229",
      "79ee9627e8864f40b9124d8618baea9b",
      "5c376f13322e4489ad478937612f9599",
      "ab9ca83f5c6243c2b3abb5c5ad0386bd",
      "88933f1996cf455487c95859cc77a77d",
      "ef797d58d80f4edeb763281cbf49b526",
      "4d7a127c72e84887af4d50cf04e379e0",
      "b7f90fe11d51447e95674b4cdfad2fa7",
      "671893bea0ac4fca9dbf5d97a9fc2356",
      "8fdd8a9232f64db9bce86c6ede977d4d",
      "6bfebb901cda4b84b03784a366598690",
      "4c8ac917190340cf90f6ab970b60ff4b",
      "6dc2fb6f2faf450e8ac5dffe232a832b",
      "a6e03b5562674c958a0a003ecfb171ee",
      "7c4d88e394ac4fb49143b714e9c18714",
      "eb32fc090c1747aa83eb45db2829a4d4",
      "03bd92e9a3f141f587cbfa9e34cb4c22",
      "b2f8687ad09846e39bf8d1162666d602",
      "21ccf82f2c814907a393c5d84ae2459e",
      "f925af7d7fd843db8549c6874fbc23f3",
      "eb1ba30d2bed458388f4b2252002938d",
      "5d199c0453f844de8b0682688ec4e42a",
      "5600fd94a74b45298f45aa6bee374e99",
      "ba224406bca04bde984f9f992650b79e",
      "a2c1aac729a54ccababa01b6960e72e0",
      "802c3850ad3e41f789cfa6a0becfc3e9",
      "c6959ee989a5410587842c50204b7c00",
      "99385d578e35427f89dadd88585b4a10",
      "55a4d2b062484d1e83a607b6f4c2028e",
      "c3bda97ea8ca41daa35f96ef8abf6337",
      "522f86a458004cc7af5d8b90b5cbd61b",
      "a5079fe11ffa47bc84a8b9cf912e2936",
      "89598485caca48b096d42f37b83c2c31",
      "595faf7a5db240cdb5cb0423cef75c0b",
      "615b8ead8a534f5ca9f88f364d9e7d1d",
      "67b5b10318304795af4eea0d65d875e7",
      "16302c072a9c443d87bf8eea81ecc277",
      "724bad04ef5342669a1da17b8bd3f8dc",
      "9a4458764d0a4cb4849e958e76dbc495",
      "c19d39476ed64e8e9f9508b6705f1d56",
      "3e9d690418fa42fcbbdabacca1278ee1",
      "820db2d9a87645708f0b3a505acb429e",
      "52b550bff4f948ebb7610f26f79366e6",
      "a56a265e8ca24154bdf0e010c1005b57",
      "850604c9c4764819b2e8546a5c809773",
      "c0b0698e9bce4c49896a11953b4eb293",
      "f320322d701f4c0490c1372f13472c0a",
      "7283b0e51bc748adaf3ab3b44f190aee",
      "359bc70d6f77492b8a0c1357d9d5b92c",
      "471b9159e3c5420db9587924ea32d639",
      "06382cd23c2a48048e0a72830d136ef2",
      "2068f1db50bc47dfa468ffe7cb130e9b",
      "c66e0f9c4c654e55bc4485d92f3530b0",
      "4d2c258c595e46b6bba2b46a45313e30",
      "55b4f79f5a1a44d6899165a1229402e4",
      "f2053a4123e74a1fa6fe02a403c62d94",
      "d59f22450fb043849474570990e0efd9",
      "8707a332694c4545a8216eeeaa19ad15",
      "ffceccba6e0b45868f285179e73b9f85",
      "eca4190b08f24ae4a0112878b0be3a29",
      "84e566ebcc34462a80e6551d2b75451e",
      "36a5b87a005e4eea8b9f440537642c55",
      "e7a169b437754d34ad541573b4cdd779",
      "1de83eea632249e8938135cdff7e610c",
      "5a07b0b25fd44489a203d2b6da27b580",
      "86946b1793a54663a52d58d3bc4fdf56",
      "8b08bd1080c04c3095c3f7a416c9a387",
      "2843ba0b8a234fdebba0a73f280b35cc",
      "e6a56282b0ef4d96894398529c94e5f8",
      "962c48015f4e4fc08970fdfc80c97fe6",
      "8c513d1a65ae478896ea9dc244499ebc",
      "e134ddb010dd4f5fb29934d346ede7a0",
      "e23d9aa9acae4a6caa441e9424f317de",
      "9888804acb744c3b82b03161557d3b40",
      "c1dde020a3f8478a91345f6e10a1c1fc",
      "4484bd05929048288e494c2318d7101b",
      "f9bbd60d540c419cbaf9fd78fd71d0f4",
      "08f75721eada4f32b8f3c070896ad484",
      "534dd2c336264a2dbc1ef80242289e17",
      "e13624ac430c43559951897a2424303b",
      "756abcfa5db14a40bebc18a59dd10d58",
      "125810e854b04237a6dd5e5a588440fd",
      "104f8f9b1f874bbf9ebc2a2cff13bb24",
      "d4d4a521ea9141809547bdb8e0a1d33a",
      "dff635c382dc4668a7d60bb281b89d31",
      "253b080086e940d18302cc88a3829066",
      "e3ab1f7d0bcc474a990abc3f43750c64",
      "6ca87862f3b847d08924364045f4d8fe",
      "1b78dacf1c6e4af9b9f43e07fd15e210",
      "845e7d35c78b4454bae3dbe3a2700e86",
      "4add9b7e257e4b9b949d490d1d506e68",
      "02d84494cd2b405cb833b90db7745670",
      "1215f13d7b354cccb9fbee260dc8f299",
      "0a932917f5ef4021a715d166d4d5005e",
      "d5ac4c8ff0aa420cac0e29214c11f705",
      "627d055a869140529b035a3c4ec0f0a0",
      "b424d695352b4c28b5e1bed0ef702a97",
      "813e8603dffd4d0e9c998034827849af",
      "f59c05af7745443486a205b7b22895f0",
      "d5a08d4debc345d3b7a9e66de1ba66e5",
      "0ec503e1879e43bc82dea04dc4bc19f3",
      "d764c27d4229420290f271fc77bff987"
     ]
    },
    "id": "aCM9OkQDEbYE",
    "outputId": "fa5519a7-b4ef-4202-db99-1810e0280fff"
   },
   "outputs": [
    {
     "name": "stderr",
     "output_type": "stream",
     "text": [
      "/usr/local/lib/python3.11/dist-packages/huggingface_hub/utils/_auth.py:94: UserWarning: \n",
      "The secret `HF_TOKEN` does not exist in your Colab secrets.\n",
      "To authenticate with the Hugging Face Hub, create a token in your settings tab (https://huggingface.co/settings/tokens), set it as secret in your Google Colab and restart your session.\n",
      "You will be able to reuse this secret in all of your notebooks.\n",
      "Please note that authentication is recommended but still optional to access public models or datasets.\n",
      "  warnings.warn(\n"
     ]
    },
    {
     "data": {
      "application/vnd.jupyter.widget-view+json": {
       "model_id": "d38e33b3b8484bb8af7de33fbcc29d43",
       "version_major": 2,
       "version_minor": 0
      },
      "text/plain": [
       "tokenizer_config.json:   0%|          | 0.00/26.0 [00:00<?, ?B/s]"
      ]
     },
     "metadata": {},
     "output_type": "display_data"
    },
    {
     "data": {
      "application/vnd.jupyter.widget-view+json": {
       "model_id": "1d9ea510e9474a758dc83f2ab92bac49",
       "version_major": 2,
       "version_minor": 0
      },
      "text/plain": [
       "vocab.json:   0%|          | 0.00/1.04M [00:00<?, ?B/s]"
      ]
     },
     "metadata": {},
     "output_type": "display_data"
    },
    {
     "data": {
      "application/vnd.jupyter.widget-view+json": {
       "model_id": "c0f2d117d9f64f51afcd62bf57ccb065",
       "version_major": 2,
       "version_minor": 0
      },
      "text/plain": [
       "merges.txt:   0%|          | 0.00/456k [00:00<?, ?B/s]"
      ]
     },
     "metadata": {},
     "output_type": "display_data"
    },
    {
     "data": {
      "application/vnd.jupyter.widget-view+json": {
       "model_id": "941902fa4ab241e0a1c7d34f2d292e2d",
       "version_major": 2,
       "version_minor": 0
      },
      "text/plain": [
       "tokenizer.json:   0%|          | 0.00/1.36M [00:00<?, ?B/s]"
      ]
     },
     "metadata": {},
     "output_type": "display_data"
    },
    {
     "data": {
      "application/vnd.jupyter.widget-view+json": {
       "model_id": "d79d8fdfb5164b83abeb2d6f5b1a5d2d",
       "version_major": 2,
       "version_minor": 0
      },
      "text/plain": [
       "config.json:   0%|          | 0.00/665 [00:00<?, ?B/s]"
      ]
     },
     "metadata": {},
     "output_type": "display_data"
    },
    {
     "data": {
      "application/vnd.jupyter.widget-view+json": {
       "model_id": "ab9ca83f5c6243c2b3abb5c5ad0386bd",
       "version_major": 2,
       "version_minor": 0
      },
      "text/plain": [
       "model.safetensors:   0%|          | 0.00/548M [00:00<?, ?B/s]"
      ]
     },
     "metadata": {},
     "output_type": "display_data"
    },
    {
     "data": {
      "application/vnd.jupyter.widget-view+json": {
       "model_id": "7c4d88e394ac4fb49143b714e9c18714",
       "version_major": 2,
       "version_minor": 0
      },
      "text/plain": [
       "generation_config.json:   0%|          | 0.00/124 [00:00<?, ?B/s]"
      ]
     },
     "metadata": {},
     "output_type": "display_data"
    },
    {
     "data": {
      "application/vnd.jupyter.widget-view+json": {
       "model_id": "802c3850ad3e41f789cfa6a0becfc3e9",
       "version_major": 2,
       "version_minor": 0
      },
      "text/plain": [
       "config.json:   0%|          | 0.00/735 [00:00<?, ?B/s]"
      ]
     },
     "metadata": {},
     "output_type": "display_data"
    },
    {
     "data": {
      "application/vnd.jupyter.widget-view+json": {
       "model_id": "16302c072a9c443d87bf8eea81ecc277",
       "version_major": 2,
       "version_minor": 0
      },
      "text/plain": [
       "pytorch_model.bin:   0%|          | 0.00/499M [00:00<?, ?B/s]"
      ]
     },
     "metadata": {},
     "output_type": "display_data"
    },
    {
     "data": {
      "application/vnd.jupyter.widget-view+json": {
       "model_id": "7283b0e51bc748adaf3ab3b44f190aee",
       "version_major": 2,
       "version_minor": 0
      },
      "text/plain": [
       "tokenizer_config.json: 0.00B [00:00, ?B/s]"
      ]
     },
     "metadata": {},
     "output_type": "display_data"
    },
    {
     "data": {
      "application/vnd.jupyter.widget-view+json": {
       "model_id": "ffceccba6e0b45868f285179e73b9f85",
       "version_major": 2,
       "version_minor": 0
      },
      "text/plain": [
       "vocab.json: 0.00B [00:00, ?B/s]"
      ]
     },
     "metadata": {},
     "output_type": "display_data"
    },
    {
     "data": {
      "application/vnd.jupyter.widget-view+json": {
       "model_id": "962c48015f4e4fc08970fdfc80c97fe6",
       "version_major": 2,
       "version_minor": 0
      },
      "text/plain": [
       "merges.txt: 0.00B [00:00, ?B/s]"
      ]
     },
     "metadata": {},
     "output_type": "display_data"
    },
    {
     "data": {
      "application/vnd.jupyter.widget-view+json": {
       "model_id": "756abcfa5db14a40bebc18a59dd10d58",
       "version_major": 2,
       "version_minor": 0
      },
      "text/plain": [
       "special_tokens_map.json:   0%|          | 0.00/772 [00:00<?, ?B/s]"
      ]
     },
     "metadata": {},
     "output_type": "display_data"
    },
    {
     "data": {
      "application/vnd.jupyter.widget-view+json": {
       "model_id": "02d84494cd2b405cb833b90db7745670",
       "version_major": 2,
       "version_minor": 0
      },
      "text/plain": [
       "model.safetensors:   0%|          | 0.00/499M [00:00<?, ?B/s]"
      ]
     },
     "metadata": {},
     "output_type": "display_data"
    },
    {
     "name": "stderr",
     "output_type": "stream",
     "text": [
      "Device set to use cuda:0\n"
     ]
    }
   ],
   "source": [
    "gpt2_tokenizer = GPT2Tokenizer.from_pretrained(\"gpt2\")\n",
    "gpt2_model = GPT2LMHeadModel.from_pretrained(\"gpt2\")\n",
    "\n",
    "from transformers import pipeline\n",
    "\n",
    "# Load the pipeline\n",
    "clf = pipeline(\"text-classification\", model=\"jy46604790/Fake-News-Bert-Detect\", tokenizer=\"jy46604790/Fake-News-Bert-Detect\")\n",
    "\n",
    "def detect_fake_news(text):\n",
    "    result = clf(text[:500])[0]  # truncates after 500 chars\n",
    "    label = \"FAKE\" if result['label']==\"LABEL_0\" else \"REAL\"\n",
    "    print(f\"\\nInput: {text}\")\n",
    "    print(f\"Prediction: {label} (Confidence: {result['score']:.2f})\\n\")\n",
    "\n"
   ]
  },
  {
   "cell_type": "code",
   "execution_count": 5,
   "metadata": {
    "colab": {
     "base_uri": "https://localhost:8080/"
    },
    "id": "eSdP4clSEu7z",
    "outputId": "105950b9-5a5d-4a98-fe5f-2ff273f2d44a"
   },
   "outputs": [
    {
     "name": "stdout",
     "output_type": "stream",
     "text": [
      "\n",
      "📰 Fake News Generator & Detector\n",
      "\n",
      "\n",
      "Choose an option:\n",
      "1 - Generate Fake News Headlines using GPT-2\n",
      "2 - Detect Fake/Real Headline using BERT\n",
      "Type 'exit' to quit.\n",
      "Enter 1 / 2 / exit: 1\n"
     ]
    },
    {
     "name": "stderr",
     "output_type": "stream",
     "text": [
      "The attention mask and the pad token id were not set. As a consequence, you may observe unexpected behavior. Please pass your input's `attention_mask` to obtain reliable results.\n",
      "Setting `pad_token_id` to `eos_token_id`:50256 for open-end generation.\n",
      "The attention mask is not set and cannot be inferred from input because pad token is same as eos token. As a consequence, you may observe unexpected behavior. Please pass your input's `attention_mask` to obtain reliable results.\n"
     ]
    },
    {
     "name": "stdout",
     "output_type": "stream",
     "text": [
      "\n",
      "🧠 Generated Fake Headlines:\n",
      "\n",
      "1. Breaking News:\n",
      "\n",
      "In a surprise move, the federal government has sent a federal judge to block federal funds to help Puerto Rico recover from Hurricane Maria\n",
      "2. Breaking News: Here's the full set:\n",
      "\n",
      "In an interview with \"60 Minutes,\" Trump said the FBI did not have all the evidence,\n",
      "3. Breaking News: News | More News\n",
      "\n",
      "On Tuesday, CBS News reported that three of the four suspects arrested in the case were from Yemen, though\n",
      "4. Breaking News: The latest from NBC News The latest from NBC News\n",
      "\n",
      "This isn't the first time a news anchor has taken on the role of\n",
      "5. Breaking News: We're at the end of our first season, and it's time for us to move on!\n",
      "\n",
      "A new show in the\n",
      "\n",
      "Choose an option:\n",
      "1 - Generate Fake News Headlines using GPT-2\n",
      "2 - Detect Fake/Real Headline using BERT\n",
      "Type 'exit' to quit.\n",
      "Enter 1 / 2 / exit: exit\n",
      "👋 Exiting the system. Goodbye!\n"
     ]
    }
   ],
   "source": [
    "print(\"\\n📰 Fake News Generator & Detector\\n\")\n",
    "\n",
    "while True:\n",
    "    print(\"\\nChoose an option:\")\n",
    "    print(\"1 - Generate Fake News Headlines using GPT-2\")\n",
    "    print(\"2 - Detect Fake/Real Headline using BERT\")\n",
    "    print(\"Type 'exit' to quit.\")\n",
    "\n",
    "    choice = input(\"Enter 1 / 2 / exit: \").strip().lower()\n",
    "\n",
    "    if choice == '1':\n",
    "        prompt = \"Breaking News:\"\n",
    "        input_ids = gpt2_tokenizer.encode(prompt, return_tensors='pt')\n",
    "\n",
    "        outputs = gpt2_model.generate(\n",
    "            input_ids,\n",
    "            max_length=30,\n",
    "            num_return_sequences=5,\n",
    "            do_sample=True,\n",
    "            temperature=0.9,\n",
    "            top_k=50,\n",
    "            top_p=0.95\n",
    "        )\n",
    "\n",
    "        print(\"\\n🧠 Generated Fake Headlines:\\n\")\n",
    "        for i, output in enumerate(outputs):\n",
    "            headline = gpt2_tokenizer.decode(output, skip_special_tokens=True)\n",
    "            print(f\"{i+1}. {headline}\")\n",
    "\n",
    "    elif choice == '2':\n",
    "        print(\"\\n🔎 Enter a news headline (type 'exit' to go back):\")\n",
    "        while True:\n",
    "            text = input(\"📝 Headline: \").strip()\n",
    "            if text.lower() == 'exit':\n",
    "                break\n",
    "            detect_fake_news(text)\n",
    "\n",
    "    elif choice == 'exit':\n",
    "        print(\"👋 Exiting the system. Goodbye!\")\n",
    "        break\n",
    "\n",
    "    else:\n",
    "        print(\"❌ Invalid input. Please enter 1, 2, or 'exit'.\")"
   ]
  },
  {
   "cell_type": "code",
   "execution_count": null,
   "metadata": {
    "id": "cPmGXARzGR85"
   },
   "outputs": [],
   "source": []
  }
 ],
 "metadata": {
  "accelerator": "GPU",
  "colab": {
   "gpuType": "T4",
   "provenance": []
  },
  "kernelspec": {
   "display_name": "Python 3",
   "name": "python3"
  },
  "language_info": {
   "name": "python"
  }
 },
 "nbformat": 4,
 "nbformat_minor": 0
}
