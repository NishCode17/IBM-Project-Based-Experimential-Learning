{
 "cells": [
  {
   "cell_type": "code",
   "execution_count": 1,
   "metadata": {
    "colab": {
     "base_uri": "https://localhost:8080/"
    },
    "id": "esbgz_yauqvP",
    "outputId": "69ed201a-481d-4212-8b66-294553c6c16a"
   },
   "outputs": [
    {
     "name": "stdout",
     "output_type": "stream",
     "text": [
      "Requirement already satisfied: transformers in /usr/local/lib/python3.11/dist-packages (4.53.0)\n",
      "Collecting gradio\n",
      "  Downloading gradio-5.35.0-py3-none-any.whl.metadata (16 kB)\n",
      "Requirement already satisfied: filelock in /usr/local/lib/python3.11/dist-packages (from transformers) (3.18.0)\n",
      "Requirement already satisfied: huggingface-hub<1.0,>=0.30.0 in /usr/local/lib/python3.11/dist-packages (from transformers) (0.33.2)\n",
      "Requirement already satisfied: numpy>=1.17 in /usr/local/lib/python3.11/dist-packages (from transformers) (2.0.2)\n",
      "Requirement already satisfied: packaging>=20.0 in /usr/local/lib/python3.11/dist-packages (from transformers) (25.0)\n",
      "Requirement already satisfied: pyyaml>=5.1 in /usr/local/lib/python3.11/dist-packages (from transformers) (6.0.2)\n",
      "Requirement already satisfied: regex!=2019.12.17 in /usr/local/lib/python3.11/dist-packages (from transformers) (2024.11.6)\n",
      "Requirement already satisfied: requests in /usr/local/lib/python3.11/dist-packages (from transformers) (2.32.3)\n",
      "Requirement already satisfied: tokenizers<0.22,>=0.21 in /usr/local/lib/python3.11/dist-packages (from transformers) (0.21.2)\n",
      "Requirement already satisfied: safetensors>=0.4.3 in /usr/local/lib/python3.11/dist-packages (from transformers) (0.5.3)\n",
      "Requirement already satisfied: tqdm>=4.27 in /usr/local/lib/python3.11/dist-packages (from transformers) (4.67.1)\n",
      "Collecting aiofiles<25.0,>=22.0 (from gradio)\n",
      "  Downloading aiofiles-24.1.0-py3-none-any.whl.metadata (10 kB)\n",
      "Requirement already satisfied: anyio<5.0,>=3.0 in /usr/local/lib/python3.11/dist-packages (from gradio) (4.9.0)\n",
      "Collecting fastapi<1.0,>=0.115.2 (from gradio)\n",
      "  Downloading fastapi-0.116.0-py3-none-any.whl.metadata (28 kB)\n",
      "Collecting ffmpy (from gradio)\n",
      "  Downloading ffmpy-0.6.0-py3-none-any.whl.metadata (2.9 kB)\n",
      "Collecting gradio-client==1.10.4 (from gradio)\n",
      "  Downloading gradio_client-1.10.4-py3-none-any.whl.metadata (7.1 kB)\n",
      "Collecting groovy~=0.1 (from gradio)\n",
      "  Downloading groovy-0.1.2-py3-none-any.whl.metadata (6.1 kB)\n",
      "Requirement already satisfied: httpx>=0.24.1 in /usr/local/lib/python3.11/dist-packages (from gradio) (0.28.1)\n",
      "Requirement already satisfied: jinja2<4.0 in /usr/local/lib/python3.11/dist-packages (from gradio) (3.1.6)\n",
      "Requirement already satisfied: markupsafe<4.0,>=2.0 in /usr/local/lib/python3.11/dist-packages (from gradio) (3.0.2)\n",
      "Collecting orjson~=3.0 (from gradio)\n",
      "  Downloading orjson-3.10.18-cp311-cp311-manylinux_2_17_x86_64.manylinux2014_x86_64.whl.metadata (41 kB)\n",
      "\u001b[2K     \u001b[90m━━━━━━━━━━━━━━━━━━━━━━━━━━━━━━━━━━━━━━━━\u001b[0m \u001b[32m41.9/41.9 kB\u001b[0m \u001b[31m3.1 MB/s\u001b[0m eta \u001b[36m0:00:00\u001b[0m\n",
      "\u001b[?25hRequirement already satisfied: pandas<3.0,>=1.0 in /usr/local/lib/python3.11/dist-packages (from gradio) (2.2.2)\n",
      "Requirement already satisfied: pillow<12.0,>=8.0 in /usr/local/lib/python3.11/dist-packages (from gradio) (11.3.0)\n",
      "Requirement already satisfied: pydantic<2.12,>=2.0 in /usr/local/lib/python3.11/dist-packages (from gradio) (2.11.7)\n",
      "Collecting pydub (from gradio)\n",
      "  Downloading pydub-0.25.1-py2.py3-none-any.whl.metadata (1.4 kB)\n",
      "Collecting python-multipart>=0.0.18 (from gradio)\n",
      "  Downloading python_multipart-0.0.20-py3-none-any.whl.metadata (1.8 kB)\n",
      "Collecting ruff>=0.9.3 (from gradio)\n",
      "  Downloading ruff-0.12.2-py3-none-manylinux_2_17_x86_64.manylinux2014_x86_64.whl.metadata (25 kB)\n",
      "Collecting safehttpx<0.2.0,>=0.1.6 (from gradio)\n",
      "  Downloading safehttpx-0.1.6-py3-none-any.whl.metadata (4.2 kB)\n",
      "Collecting semantic-version~=2.0 (from gradio)\n",
      "  Downloading semantic_version-2.10.0-py2.py3-none-any.whl.metadata (9.7 kB)\n",
      "Collecting starlette<1.0,>=0.40.0 (from gradio)\n",
      "  Downloading starlette-0.47.1-py3-none-any.whl.metadata (6.2 kB)\n",
      "Collecting tomlkit<0.14.0,>=0.12.0 (from gradio)\n",
      "  Downloading tomlkit-0.13.3-py3-none-any.whl.metadata (2.8 kB)\n",
      "Requirement already satisfied: typer<1.0,>=0.12 in /usr/local/lib/python3.11/dist-packages (from gradio) (0.16.0)\n",
      "Requirement already satisfied: typing-extensions~=4.0 in /usr/local/lib/python3.11/dist-packages (from gradio) (4.14.0)\n",
      "Collecting uvicorn>=0.14.0 (from gradio)\n",
      "  Downloading uvicorn-0.35.0-py3-none-any.whl.metadata (6.5 kB)\n",
      "Requirement already satisfied: fsspec in /usr/local/lib/python3.11/dist-packages (from gradio-client==1.10.4->gradio) (2025.5.1)\n",
      "Requirement already satisfied: websockets<16.0,>=10.0 in /usr/local/lib/python3.11/dist-packages (from gradio-client==1.10.4->gradio) (15.0.1)\n",
      "Requirement already satisfied: idna>=2.8 in /usr/local/lib/python3.11/dist-packages (from anyio<5.0,>=3.0->gradio) (3.10)\n",
      "Requirement already satisfied: sniffio>=1.1 in /usr/local/lib/python3.11/dist-packages (from anyio<5.0,>=3.0->gradio) (1.3.1)\n",
      "Collecting starlette<1.0,>=0.40.0 (from gradio)\n",
      "  Downloading starlette-0.46.2-py3-none-any.whl.metadata (6.2 kB)\n",
      "Requirement already satisfied: certifi in /usr/local/lib/python3.11/dist-packages (from httpx>=0.24.1->gradio) (2025.6.15)\n",
      "Requirement already satisfied: httpcore==1.* in /usr/local/lib/python3.11/dist-packages (from httpx>=0.24.1->gradio) (1.0.9)\n",
      "Requirement already satisfied: h11>=0.16 in /usr/local/lib/python3.11/dist-packages (from httpcore==1.*->httpx>=0.24.1->gradio) (0.16.0)\n",
      "Requirement already satisfied: hf-xet<2.0.0,>=1.1.2 in /usr/local/lib/python3.11/dist-packages (from huggingface-hub<1.0,>=0.30.0->transformers) (1.1.5)\n",
      "Requirement already satisfied: python-dateutil>=2.8.2 in /usr/local/lib/python3.11/dist-packages (from pandas<3.0,>=1.0->gradio) (2.9.0.post0)\n",
      "Requirement already satisfied: pytz>=2020.1 in /usr/local/lib/python3.11/dist-packages (from pandas<3.0,>=1.0->gradio) (2025.2)\n",
      "Requirement already satisfied: tzdata>=2022.7 in /usr/local/lib/python3.11/dist-packages (from pandas<3.0,>=1.0->gradio) (2025.2)\n",
      "Requirement already satisfied: annotated-types>=0.6.0 in /usr/local/lib/python3.11/dist-packages (from pydantic<2.12,>=2.0->gradio) (0.7.0)\n",
      "Requirement already satisfied: pydantic-core==2.33.2 in /usr/local/lib/python3.11/dist-packages (from pydantic<2.12,>=2.0->gradio) (2.33.2)\n",
      "Requirement already satisfied: typing-inspection>=0.4.0 in /usr/local/lib/python3.11/dist-packages (from pydantic<2.12,>=2.0->gradio) (0.4.1)\n",
      "Requirement already satisfied: click>=8.0.0 in /usr/local/lib/python3.11/dist-packages (from typer<1.0,>=0.12->gradio) (8.2.1)\n",
      "Requirement already satisfied: shellingham>=1.3.0 in /usr/local/lib/python3.11/dist-packages (from typer<1.0,>=0.12->gradio) (1.5.4)\n",
      "Requirement already satisfied: rich>=10.11.0 in /usr/local/lib/python3.11/dist-packages (from typer<1.0,>=0.12->gradio) (14.0.0)\n",
      "Requirement already satisfied: charset-normalizer<4,>=2 in /usr/local/lib/python3.11/dist-packages (from requests->transformers) (3.4.2)\n",
      "Requirement already satisfied: urllib3<3,>=1.21.1 in /usr/local/lib/python3.11/dist-packages (from requests->transformers) (2.4.0)\n",
      "Requirement already satisfied: six>=1.5 in /usr/local/lib/python3.11/dist-packages (from python-dateutil>=2.8.2->pandas<3.0,>=1.0->gradio) (1.17.0)\n",
      "Requirement already satisfied: markdown-it-py>=2.2.0 in /usr/local/lib/python3.11/dist-packages (from rich>=10.11.0->typer<1.0,>=0.12->gradio) (3.0.0)\n",
      "Requirement already satisfied: pygments<3.0.0,>=2.13.0 in /usr/local/lib/python3.11/dist-packages (from rich>=10.11.0->typer<1.0,>=0.12->gradio) (2.19.2)\n",
      "Requirement already satisfied: mdurl~=0.1 in /usr/local/lib/python3.11/dist-packages (from markdown-it-py>=2.2.0->rich>=10.11.0->typer<1.0,>=0.12->gradio) (0.1.2)\n",
      "Downloading gradio-5.35.0-py3-none-any.whl (54.3 MB)\n",
      "\u001b[2K   \u001b[90m━━━━━━━━━━━━━━━━━━━━━━━━━━━━━━━━━━━━━━━━\u001b[0m \u001b[32m54.3/54.3 MB\u001b[0m \u001b[31m24.6 MB/s\u001b[0m eta \u001b[36m0:00:00\u001b[0m\n",
      "\u001b[?25hDownloading gradio_client-1.10.4-py3-none-any.whl (323 kB)\n",
      "\u001b[2K   \u001b[90m━━━━━━━━━━━━━━━━━━━━━━━━━━━━━━━━━━━━━━━━\u001b[0m \u001b[32m323.9/323.9 kB\u001b[0m \u001b[31m19.6 MB/s\u001b[0m eta \u001b[36m0:00:00\u001b[0m\n",
      "\u001b[?25hDownloading aiofiles-24.1.0-py3-none-any.whl (15 kB)\n",
      "Downloading fastapi-0.116.0-py3-none-any.whl (95 kB)\n",
      "\u001b[2K   \u001b[90m━━━━━━━━━━━━━━━━━━━━━━━━━━━━━━━━━━━━━━━━\u001b[0m \u001b[32m95.6/95.6 kB\u001b[0m \u001b[31m7.2 MB/s\u001b[0m eta \u001b[36m0:00:00\u001b[0m\n",
      "\u001b[?25hDownloading groovy-0.1.2-py3-none-any.whl (14 kB)\n",
      "Downloading orjson-3.10.18-cp311-cp311-manylinux_2_17_x86_64.manylinux2014_x86_64.whl (132 kB)\n",
      "\u001b[2K   \u001b[90m━━━━━━━━━━━━━━━━━━━━━━━━━━━━━━━━━━━━━━━━\u001b[0m \u001b[32m132.8/132.8 kB\u001b[0m \u001b[31m11.1 MB/s\u001b[0m eta \u001b[36m0:00:00\u001b[0m\n",
      "\u001b[?25hDownloading python_multipart-0.0.20-py3-none-any.whl (24 kB)\n",
      "Downloading ruff-0.12.2-py3-none-manylinux_2_17_x86_64.manylinux2014_x86_64.whl (11.6 MB)\n",
      "\u001b[2K   \u001b[90m━━━━━━━━━━━━━━━━━━━━━━━━━━━━━━━━━━━━━━━━\u001b[0m \u001b[32m11.6/11.6 MB\u001b[0m \u001b[31m115.3 MB/s\u001b[0m eta \u001b[36m0:00:00\u001b[0m\n",
      "\u001b[?25hDownloading safehttpx-0.1.6-py3-none-any.whl (8.7 kB)\n",
      "Downloading semantic_version-2.10.0-py2.py3-none-any.whl (15 kB)\n",
      "Downloading starlette-0.46.2-py3-none-any.whl (72 kB)\n",
      "\u001b[2K   \u001b[90m━━━━━━━━━━━━━━━━━━━━━━━━━━━━━━━━━━━━━━━━\u001b[0m \u001b[32m72.0/72.0 kB\u001b[0m \u001b[31m6.3 MB/s\u001b[0m eta \u001b[36m0:00:00\u001b[0m\n",
      "\u001b[?25hDownloading tomlkit-0.13.3-py3-none-any.whl (38 kB)\n",
      "Downloading uvicorn-0.35.0-py3-none-any.whl (66 kB)\n",
      "\u001b[2K   \u001b[90m━━━━━━━━━━━━━━━━━━━━━━━━━━━━━━━━━━━━━━━━\u001b[0m \u001b[32m66.4/66.4 kB\u001b[0m \u001b[31m6.2 MB/s\u001b[0m eta \u001b[36m0:00:00\u001b[0m\n",
      "\u001b[?25hDownloading ffmpy-0.6.0-py3-none-any.whl (5.5 kB)\n",
      "Downloading pydub-0.25.1-py2.py3-none-any.whl (32 kB)\n",
      "Installing collected packages: pydub, uvicorn, tomlkit, semantic-version, ruff, python-multipart, orjson, groovy, ffmpy, aiofiles, starlette, safehttpx, gradio-client, fastapi, gradio\n",
      "Successfully installed aiofiles-24.1.0 fastapi-0.116.0 ffmpy-0.6.0 gradio-5.35.0 gradio-client-1.10.4 groovy-0.1.2 orjson-3.10.18 pydub-0.25.1 python-multipart-0.0.20 ruff-0.12.2 safehttpx-0.1.6 semantic-version-2.10.0 starlette-0.46.2 tomlkit-0.13.3 uvicorn-0.35.0\n"
     ]
    }
   ],
   "source": [
    "!pip install transformers gradio"
   ]
  },
  {
   "cell_type": "code",
   "execution_count": 2,
   "metadata": {
    "id": "W_bJFY37tdgd"
   },
   "outputs": [],
   "source": [
    "import gradio as gr\n",
    "from transformers import pipeline\n",
    "import random"
   ]
  },
  {
   "cell_type": "code",
   "execution_count": 3,
   "metadata": {
    "colab": {
     "base_uri": "https://localhost:8080/",
     "height": 389,
     "referenced_widgets": [
      "441f137bf7ad424d8c248f71a7d83454",
      "9e9993d669a648bfb4440b934a0c5e4d",
      "32bf58b36245454988d5362bb33f241e",
      "cb949b0b4da546fd91896774a043e7a7",
      "39732ce220474ee492fcc0de453f9927",
      "cba34287313945959c9397ea99a67204",
      "3d2f16d21cf24c2f9bb1d9206df97370",
      "45beeaac0e7b4fd6a131e63008242ce6",
      "e2c9a232ba89445ca77432c4fd2e0220",
      "45fdacd673054d60915af02ac94a5344",
      "81022e06548244969fbc8732f31153e3",
      "497292f10ae64a3585edda3d9c12a871",
      "1b7a02dd75524b9b878cfd9ffe9eca0d",
      "35ba98e34d3047b0ad4ba843916b3115",
      "a2f33f9ab0a6451d9161eaaa387db24b",
      "62ef5c529a9148bc89f4ee67d96ef843",
      "62b329bb8e574a7c8217abc5e00e381f",
      "19a4d5c000e04916a50f6eb2a9c5a514",
      "7faf0186d96845c1b484a496b66a0273",
      "08bb844bf9ce44c3abe8869ca6d6275c",
      "679977077a174a0f88bf7e95e64111dd",
      "3f99617450a646149185052c4c0d7af7",
      "a09a744a87084b9295da6488170dfbaa",
      "163575e8c6334543af14b8d5e85449af",
      "07be8a82b0f9472aa037b5a1f6bed144",
      "01c3d15a854a4d2a942685b19a513c6e",
      "d9e9bcc3dc1344408fae125e925ac550",
      "31ea3b37904f41ef94224cd4a74e09e4",
      "cc55183bcd534249bf8b6d88cdd27eb8",
      "87c2027920db4ebcb5492361fb0bad5b",
      "184aebd93deb47508e2d5a80f135625c",
      "18f7351b284f473387a70801bc7b6a00",
      "5ef93b84d87c4d56866c739cc6e53c93",
      "de8a4a42aab84e988366bd561e4e16bc",
      "9eef187378e743e9974cba60ab95aad8",
      "be5c07ff29f64e2798b50c7851750e02",
      "0dc05382c0964f318867577e49e9c5fe",
      "cbdaed7139be484085fbab19fcbf65c6",
      "ae5712c1fc7842749fbf1e0c240f6d63",
      "cf1727b7b80a47eea2eff75122f9d5e4",
      "78f2f3384c9e434caa28cbb1e3a1be6e",
      "e353bde460af4b0493d05cdfd85de8ce",
      "77e48bceb1ae4274b1e474c937942ab1",
      "7188c3ba87054371b80cbfbb30a9dd64",
      "911a6fcd8a534835aa805e30ebb01066",
      "1723cbb1be164358b2978006fcdf8a49",
      "7e10af3ac8f4452d82f97267ca534ee2",
      "71258eff44424dcea60662b28dc6cd8f",
      "6cf036db145c4251a067e5a8a3e708b5",
      "53624995c3444e65b056cdc361bef593",
      "b81e3021aae94a2c9c809b06a2417746",
      "e41640b31b414a20b1989432fd4e4c06",
      "8f07236e850c4b62ad847182cb19367f",
      "ec2bf0d40875448584dcee5a492b275c",
      "43d3142616d148c3ab9451ccd3aaea12",
      "beef05a99c584087afba9866df0f5c9c",
      "1fc9cada8cf545dd8aff9972f71b4bbb",
      "d4594fb045114bc5a9efcc9f75f90248",
      "d8f0d7fdd48a43378e6b3f95cd0c90bc",
      "c5f45e46dec649c5a2ddab16b872ef04",
      "371f3899a2b944ad9f34fb78341ceb51",
      "30ceef90adf640488b5cc6843522e5ce",
      "6b1b5f483b2140d09baeee0fc880ca14",
      "d5b519434e02451aa8727057907c7e27",
      "4adb93ef40824727969effc23772101d",
      "b268e872b5ab40df857ed01d5a4ea0df",
      "dbda594a0f5c45398d375889ce67e396",
      "6d2fe73074934a1eadf30bd891159f54",
      "306499743d46466eabcb3992e8912beb",
      "ccfd1b5d78d3419c892eb6344f97ec1a",
      "4e22ce5b394e4b07a632b4ece63919b4",
      "a60954df1935408db969df7d83ca96c3",
      "33abdbeafeff467780f74b8e35905cb7",
      "bafee0845827443a93604ac19a7feab9",
      "749df17fb0f941cf8161571c36ce9fdf",
      "33a2f6e48de641f5be4bc688ec913b16",
      "3339948acd5a4f3d9bd646113e2aa759"
     ]
    },
    "id": "eyeLpl2Iurbw",
    "outputId": "af717fca-d751-47b8-fea7-32b358030d4e"
   },
   "outputs": [
    {
     "name": "stderr",
     "output_type": "stream",
     "text": [
      "/usr/local/lib/python3.11/dist-packages/huggingface_hub/utils/_auth.py:94: UserWarning: \n",
      "The secret `HF_TOKEN` does not exist in your Colab secrets.\n",
      "To authenticate with the Hugging Face Hub, create a token in your settings tab (https://huggingface.co/settings/tokens), set it as secret in your Google Colab and restart your session.\n",
      "You will be able to reuse this secret in all of your notebooks.\n",
      "Please note that authentication is recommended but still optional to access public models or datasets.\n",
      "  warnings.warn(\n"
     ]
    },
    {
     "data": {
      "application/vnd.jupyter.widget-view+json": {
       "model_id": "441f137bf7ad424d8c248f71a7d83454",
       "version_major": 2,
       "version_minor": 0
      },
      "text/plain": [
       "config.json:   0%|          | 0.00/665 [00:00<?, ?B/s]"
      ]
     },
     "metadata": {},
     "output_type": "display_data"
    },
    {
     "data": {
      "application/vnd.jupyter.widget-view+json": {
       "model_id": "497292f10ae64a3585edda3d9c12a871",
       "version_major": 2,
       "version_minor": 0
      },
      "text/plain": [
       "model.safetensors:   0%|          | 0.00/548M [00:00<?, ?B/s]"
      ]
     },
     "metadata": {},
     "output_type": "display_data"
    },
    {
     "data": {
      "application/vnd.jupyter.widget-view+json": {
       "model_id": "a09a744a87084b9295da6488170dfbaa",
       "version_major": 2,
       "version_minor": 0
      },
      "text/plain": [
       "generation_config.json:   0%|          | 0.00/124 [00:00<?, ?B/s]"
      ]
     },
     "metadata": {},
     "output_type": "display_data"
    },
    {
     "data": {
      "application/vnd.jupyter.widget-view+json": {
       "model_id": "de8a4a42aab84e988366bd561e4e16bc",
       "version_major": 2,
       "version_minor": 0
      },
      "text/plain": [
       "tokenizer_config.json:   0%|          | 0.00/26.0 [00:00<?, ?B/s]"
      ]
     },
     "metadata": {},
     "output_type": "display_data"
    },
    {
     "data": {
      "application/vnd.jupyter.widget-view+json": {
       "model_id": "911a6fcd8a534835aa805e30ebb01066",
       "version_major": 2,
       "version_minor": 0
      },
      "text/plain": [
       "vocab.json:   0%|          | 0.00/1.04M [00:00<?, ?B/s]"
      ]
     },
     "metadata": {},
     "output_type": "display_data"
    },
    {
     "data": {
      "application/vnd.jupyter.widget-view+json": {
       "model_id": "beef05a99c584087afba9866df0f5c9c",
       "version_major": 2,
       "version_minor": 0
      },
      "text/plain": [
       "merges.txt:   0%|          | 0.00/456k [00:00<?, ?B/s]"
      ]
     },
     "metadata": {},
     "output_type": "display_data"
    },
    {
     "data": {
      "application/vnd.jupyter.widget-view+json": {
       "model_id": "dbda594a0f5c45398d375889ce67e396",
       "version_major": 2,
       "version_minor": 0
      },
      "text/plain": [
       "tokenizer.json:   0%|          | 0.00/1.36M [00:00<?, ?B/s]"
      ]
     },
     "metadata": {},
     "output_type": "display_data"
    },
    {
     "name": "stderr",
     "output_type": "stream",
     "text": [
      "Device set to use cpu\n"
     ]
    }
   ],
   "source": [
    "caption_generator=pipeline(\"text-generation\",model=\"gpt2\")"
   ]
  },
  {
   "cell_type": "code",
   "execution_count": 4,
   "metadata": {
    "colab": {
     "base_uri": "https://localhost:8080/",
     "height": 220,
     "referenced_widgets": [
      "43425c1f39394cc5a85a404404b98de4",
      "ecaf47df69634a3bb1d852870ed8f04c",
      "911b0c4b52b34f3db142c6104c60862a",
      "0532d562021c408892373f7467fd2e01",
      "d004f91d132647bbb3d0a7d6f67b3ff1",
      "5bdde50ba28445c285781e5e58e0ce34",
      "f9a77637f09d4c508e49da5de1c69ca4",
      "4f67decf64234777a696c55678a397a2",
      "63b5af2785f04a05aed7b0df42f61745",
      "f26c1a9eaff043cdaccac2d81d04ce22",
      "7c98f49ebc8144feb6b4b1e9777875a0",
      "9dcab22697fc4d96ab55a5f01ffc728b",
      "138ca214909e485c871fbbebadb3ce3a",
      "025917cc25a64197b97d55068cade537",
      "9d85638697184aff977a64e61cc51a80",
      "578bc10723e74041824e5ae3802d9c07",
      "81dd8fc625044fd9869e498668b1a9ff",
      "6025259c192f4dc3a17308f3da6e9bcd",
      "9b176159bec940a09bcb932abcb131db",
      "702a3bcf177346a8bcebb59405427d86",
      "551e35b81ef4435799413fb6e5bca882",
      "a5feccdf100f47cfa23153bb7f65e442",
      "7edc10a6fdc64f248696dc102470bb1c",
      "7331366e844243dcbe075a6d3d64aa6a",
      "42e888b9418f4be1bde84d12ba4074c3",
      "311659a808734553bba3e826b77aa929",
      "0cd70fc664654929aa171da66895f7d1",
      "1b1d8385f26246e5bdfcb82a68cb1693",
      "5ee80e4995704cd08d380d2bcc33b79f",
      "3bfbfaca666341bdbb4516f9580c0d1d",
      "c2ca405a773f4c8dae2ed1933a5584de",
      "6dedc88a7d874abe95b0485b7ae7bd6b",
      "90232d24d7804ed0aaa5c5bc32ae9418",
      "f96ccf5917e2495ca8e0601539a5a218",
      "3a5651c979c240dab8446c8547304105",
      "d13d8208e715488381abe1054ea82014",
      "9ff006eb158a488db4e7650a599e6cea",
      "c4ff6cc72b2c4288af3f5000bd068548",
      "105e6e277a3e42b08044b9aa20a88472",
      "0e363a5fa88e4636b0ee766b210cf9c3",
      "6145f9871bae47109608474d34367f91",
      "58d8e59bd5db4ef8af555f364fc52766",
      "1ffec713e1454a95992fb92f9aedba88",
      "60147a2354e14c8dbee72f02fe56cc83"
     ]
    },
    "id": "rVkd2q0pwAJd",
    "outputId": "ec4b9e51-acc5-4398-8bb8-8b11b6f927f4"
   },
   "outputs": [
    {
     "name": "stderr",
     "output_type": "stream",
     "text": [
      "No model was supplied, defaulted to distilbert/distilbert-base-uncased-finetuned-sst-2-english and revision 714eb0f (https://huggingface.co/distilbert/distilbert-base-uncased-finetuned-sst-2-english).\n",
      "Using a pipeline without specifying a model name and revision in production is not recommended.\n"
     ]
    },
    {
     "data": {
      "application/vnd.jupyter.widget-view+json": {
       "model_id": "43425c1f39394cc5a85a404404b98de4",
       "version_major": 2,
       "version_minor": 0
      },
      "text/plain": [
       "config.json:   0%|          | 0.00/629 [00:00<?, ?B/s]"
      ]
     },
     "metadata": {},
     "output_type": "display_data"
    },
    {
     "data": {
      "application/vnd.jupyter.widget-view+json": {
       "model_id": "9dcab22697fc4d96ab55a5f01ffc728b",
       "version_major": 2,
       "version_minor": 0
      },
      "text/plain": [
       "model.safetensors:   0%|          | 0.00/268M [00:00<?, ?B/s]"
      ]
     },
     "metadata": {},
     "output_type": "display_data"
    },
    {
     "data": {
      "application/vnd.jupyter.widget-view+json": {
       "model_id": "7edc10a6fdc64f248696dc102470bb1c",
       "version_major": 2,
       "version_minor": 0
      },
      "text/plain": [
       "tokenizer_config.json:   0%|          | 0.00/48.0 [00:00<?, ?B/s]"
      ]
     },
     "metadata": {},
     "output_type": "display_data"
    },
    {
     "data": {
      "application/vnd.jupyter.widget-view+json": {
       "model_id": "f96ccf5917e2495ca8e0601539a5a218",
       "version_major": 2,
       "version_minor": 0
      },
      "text/plain": [
       "vocab.txt: 0.00B [00:00, ?B/s]"
      ]
     },
     "metadata": {},
     "output_type": "display_data"
    },
    {
     "name": "stderr",
     "output_type": "stream",
     "text": [
      "Device set to use cpu\n"
     ]
    }
   ],
   "source": [
    "emoji_dict = {\n",
    "    \"POSITIVE\": [\"😊\", \"😄\", \"😁\", \"🥳\", \"🤩\", \"❤️\", \"👍\"],\n",
    "    \"NEGATIVE\": [\"😢\", \"😠\", \"😞\", \"💔\", \"😭\", \"👎\"],\n",
    "    \"NEUTRAL\": [\"😐\", \"🤔\", \"🙃\", \"😶\", \"🫥\"]\n",
    "}\n",
    "\n",
    "sentiment_pipeline=pipeline(\"sentiment-analysis\")\n",
    "\n",
    "def get_emojis(text):\n",
    "  label=sentiment_pipeline(text)[0]['label'].lower()\n",
    "  return ''.join(random.sample(emoji_dict.get[label,[\"😐\"]],3))"
   ]
  },
  {
   "cell_type": "code",
   "execution_count": 5,
   "metadata": {
    "id": "oZ7baqxWxRDT"
   },
   "outputs": [],
   "source": [
    "def get_hashtags(prompt, platform):\n",
    "  words=prompt.lower().split()\n",
    "  tags=[\"#\" + word.replace(\" \",\"\") for word in words if len(word) > 3]\n",
    "\n",
    "  platform_tags={\n",
    "      \"Instagram\":[\"#instadaily\",\"#igers\",\"#picoftheday\"],\n",
    "      \"LinkedIN\":[\"#career\",\"#leadership\",\"#networking\"],\n",
    "      \"Twitter\":[\"#tweet\",\"#trending\",\"#news\"]\n",
    "  }\n",
    "\n",
    "  return \" \".join(tags[:5] + random.sample(platform_tags[platform], 2))\n"
   ]
  },
  {
   "cell_type": "code",
   "execution_count": 6,
   "metadata": {
    "id": "LzYBpi5OyzJZ"
   },
   "outputs": [],
   "source": [
    "def generate_post(prompt, platform):\n",
    "  caption=caption_generator(prompt, max_length=50, num_return_sequences=1)[0]['generated_text']\n",
    "\n",
    "  emojis= get_emojis(caption)\n",
    "\n",
    "  hashtags= get_hashtags(prompt, platform)\n",
    "\n",
    "  return caption.strip(), emojis, hashtags"
   ]
  },
  {
   "cell_type": "code",
   "execution_count": 7,
   "metadata": {
    "colab": {
     "base_uri": "https://localhost:8080/",
     "height": 650
    },
    "id": "bb0UmSDXz7BQ",
    "outputId": "d59a18e4-da67-4904-9fc7-c6ec3c42bd5b"
   },
   "outputs": [
    {
     "name": "stdout",
     "output_type": "stream",
     "text": [
      "It looks like you are running Gradio on a hosted Jupyter notebook, which requires `share=True`. Automatically setting `share=True` (you can turn this off by setting `share=False` in `launch()` explicitly).\n",
      "\n",
      "Colab notebook detected. To show errors in colab notebook, set debug=True in launch()\n",
      "* Running on public URL: https://547128599c6c58fb5e.gradio.live\n",
      "\n",
      "This share link expires in 1 week. For free permanent hosting and GPU upgrades, run `gradio deploy` from the terminal in the working directory to deploy to Hugging Face Spaces (https://huggingface.co/spaces)\n"
     ]
    },
    {
     "data": {
      "text/html": [
       "<div><iframe src=\"https://547128599c6c58fb5e.gradio.live\" width=\"100%\" height=\"500\" allow=\"autoplay; camera; microphone; clipboard-read; clipboard-write;\" frameborder=\"0\" allowfullscreen></iframe></div>"
      ],
      "text/plain": [
       "<IPython.core.display.HTML object>"
      ]
     },
     "metadata": {},
     "output_type": "display_data"
    },
    {
     "data": {
      "text/plain": []
     },
     "execution_count": 7,
     "metadata": {},
     "output_type": "execute_result"
    }
   ],
   "source": [
    "interface=gr.Interface(\n",
    "    fn=generate_post,\n",
    "    inputs=[\n",
    "        gr.Textbox(label=\"enter keyword or theme\"),\n",
    "        gr.Radio([\"Instagram\",\"LinkedIn\",\"Twitter\"], label=\"Choose Platform\")\n",
    "    ],\n",
    "    outputs=[\n",
    "        gr.Textbox(label=\"Caption\"),\n",
    "        gr.Textbox(label=\"Emojis\"),\n",
    "        gr.Textbox(label=\"Hashtags\")\n",
    "    ],\n",
    "    title=\"Social Media Post & Caption Generator\",\n",
    "    description=\"Generate catchy captions, relevant hashtags, and emojis absed on your theme!\"\n",
    ")\n",
    "interface.launch()"
   ]
  },
  {
   "cell_type": "markdown",
   "metadata": {
    "id": "y2Fxmr8KA0PG"
   },
   "source": [
    "![Gradio Interface](Demo.jpg)"
   ]
  }
 ],
 "metadata": {
  "accelerator": "TPU",
  "colab": {
   "gpuType": "V28",
   "provenance": []
  },
  "kernelspec": {
   "display_name": "Python 3",
   "name": "python3"
  },
  "language_info": {
   "name": "python"
  }
 },
 "nbformat": 4,
 "nbformat_minor": 0
}
